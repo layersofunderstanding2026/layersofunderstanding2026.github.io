{
 "cells": [
  {
   "cell_type": "code",
   "id": "68dc5389",
   "metadata": {},
   "source": [
    "from astropy.table import Table"
   ],
   "outputs": [],
   "execution_count": null
  },
  {
   "cell_type": "code",
   "id": "474ffce6",
   "metadata": {
    "ExecuteTime": {
     "end_time": "2025-09-18T08:58:36.687183Z",
     "start_time": "2025-09-18T08:58:36.683214Z"
    }
   },
   "source": [
    "tab = Table.read('schedule.csv', format='csv')"
   ],
   "outputs": [],
   "execution_count": 4
  },
  {
   "cell_type": "code",
   "id": "b5aba85a",
   "metadata": {
    "ExecuteTime": {
     "end_time": "2025-09-18T08:58:37.027581Z",
     "start_time": "2025-09-18T08:58:37.017225Z"
    }
   },
   "source": [
    "for i in range(len(tab)):\n",
    "    if (('Monday' in tab['name'][i]) or ('Tuesday' in tab['name'][i]) or\n",
    "        ('Wednesday' in tab['name'][i]) or ('Thursday' in tab['name'][i]) or\n",
    "        ('Friday' in tab['name'][i])):\n",
    "        print('         ')\n",
    "        print('         ')\n",
    "        print('<tr><th>Time</th><th>Speaker</th><th>Topic</th></tr>')\n",
    "    print('<tr><th>{0}</th><th>{1}</th><th>{2}</th></tr>'.format('00:00',\n",
    "                                                                 tab['name'][i],\n",
    "                                                                 tab['title'][i]))"
   ],
   "outputs": [
    {
     "name": "stdout",
     "output_type": "stream",
     "text": [
      "         \n",
      "         \n",
      "<tr><th>Time</th><th>Speaker</th><th>Topic</th></tr>\n",
      "<tr><th>00:00</th><th>Monday</th><th>TBD</th></tr>\n",
      "<tr><th>00:00</th><th>TBD</th><th>TBD</th></tr>\n",
      "         \n",
      "         \n",
      "<tr><th>Time</th><th>Speaker</th><th>Topic</th></tr>\n",
      "<tr><th>00:00</th><th>Tuesday</th><th>TBD</th></tr>\n",
      "<tr><th>00:00</th><th>TBD</th><th>TBD</th></tr>\n",
      "         \n",
      "         \n",
      "<tr><th>Time</th><th>Speaker</th><th>Topic</th></tr>\n",
      "<tr><th>00:00</th><th>Wednesday</th><th>TBD</th></tr>\n",
      "<tr><th>00:00</th><th>TBD</th><th>TBD</th></tr>\n",
      "         \n",
      "         \n",
      "<tr><th>Time</th><th>Speaker</th><th>Topic</th></tr>\n",
      "<tr><th>00:00</th><th>Thursday</th><th>TBD</th></tr>\n",
      "<tr><th>00:00</th><th>TBD</th><th>TBD</th></tr>\n",
      "         \n",
      "         \n",
      "<tr><th>Time</th><th>Speaker</th><th>Topic</th></tr>\n",
      "<tr><th>00:00</th><th>Friday</th><th>TBD</th></tr>\n",
      "<tr><th>00:00</th><th>TBD</th><th>TBD</th></tr>\n"
     ]
    }
   ],
   "execution_count": 5
  },
  {
   "metadata": {},
   "cell_type": "code",
   "source": "",
   "id": "8930fba4075605fe",
   "outputs": [],
   "execution_count": null
  }
 ],
 "metadata": {
  "kernelspec": {
   "display_name": "Python 3 (ipykernel)",
   "language": "python",
   "name": "python3"
  },
  "language_info": {
   "codemirror_mode": {
    "name": "ipython",
    "version": 3
   },
   "file_extension": ".py",
   "mimetype": "text/x-python",
   "name": "python",
   "nbconvert_exporter": "python",
   "pygments_lexer": "ipython3",
   "version": "3.11.5"
  }
 },
 "nbformat": 4,
 "nbformat_minor": 5
}
